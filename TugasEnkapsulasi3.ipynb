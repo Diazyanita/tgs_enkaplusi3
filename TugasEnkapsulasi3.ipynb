{
  "nbformat": 4,
  "nbformat_minor": 0,
  "metadata": {
    "colab": {
      "provenance": [],
      "authorship_tag": "ABX9TyN1tjvIefXfXdSkcb/puy/C",
      "include_colab_link": true
    },
    "kernelspec": {
      "name": "python3",
      "display_name": "Python 3"
    },
    "language_info": {
      "name": "python"
    }
  },
  "cells": [
    {
      "cell_type": "markdown",
      "metadata": {
        "id": "view-in-github",
        "colab_type": "text"
      },
      "source": [
        "<a href=\"https://colab.research.google.com/github/Diazyanita/tgs_enkaplusi3/blob/main/TugasEnkapsulasi3.ipynb\" target=\"_parent\"><img src=\"https://colab.research.google.com/assets/colab-badge.svg\" alt=\"Open In Colab\"/></a>"
      ]
    },
    {
      "cell_type": "code",
      "execution_count": 10,
      "metadata": {
        "id": "7KSOKM4mrr_q"
      },
      "outputs": [],
      "source": [
        "# Desain class\n",
        "class RekeningBank:\n",
        "  def __init__(self, nama_pemilik, saldo):\n",
        "    self.__nama_pemilik = nama_pemilik\n",
        "    self.__saldo = saldo\n",
        "\n",
        "  def get_nama_pemilik(self):\n",
        "    return self.__nama_pemilik\n",
        "\n",
        "  def set_nama_pemilik(self, nama_pemilik):\n",
        "    self.__nama_pemilik = nama_pemilik\n",
        "\n",
        "  def get_saldo(self):\n",
        "    return self.__saldo\n",
        "\n",
        "  def set_saldo(self, saldo):\n",
        "    self.__saldo = saldo\n",
        "\n",
        "  def setor(self, jumlah):\n",
        "    if jumlah > 0:\n",
        "      self.__saldo += jumlah\n",
        "      print('behasil.total saldo sekarang :', self.__saldo)\n",
        "    else:\n",
        "      print(\"jumlah setor harus lebih dari 0\")\n",
        "\n",
        "  def tarik(self, jumlah):\n",
        "    if jumlah > 0 and jumlah <= self.__saldo:\n",
        "      self.__saldo -= jumlah\n",
        "      print('tarik', jumlah)\n",
        "      print('berhasil. total saldo sekarang :', self.__saldo)\n",
        "    else:\n",
        "      print(\"jumlah saldo tidak mencukupi\")\n"
      ]
    },
    {
      "cell_type": "code",
      "source": [
        "#Program utama untuk mendemonstrasikan class RekeningBank\n",
        "dyz= RekeningBank('yz',50000000)\n",
        "\n",
        "#mengembalikan nilai saldo\n",
        "print('RekeningBank:',dyz.get_nama_pemilik(), 'saldo:', dyz.get_saldo())\n",
        "\n",
        "# mengubah nilai saldo dan nama pemilik\n",
        "dyz.set_nama_pemilik('izek')\n",
        "dyz.set_saldo('40000000')\n",
        "\n",
        "# Mengakses/menampilkan nama_pemilik dan saldo setelah diubah\n",
        "print('RekeningBank:', dyz.get_nama_pemilik(), 'saldo:', dyz.get_saldo())"
      ],
      "metadata": {
        "colab": {
          "base_uri": "https://localhost:8080/"
        },
        "id": "4futEsPBsF2l",
        "outputId": "9fa91ee9-2b77-4f76-85ae-ec14dd696c28"
      },
      "execution_count": 11,
      "outputs": [
        {
          "output_type": "stream",
          "name": "stdout",
          "text": [
            "RekeningBank: yz saldo: 50000000\n",
            "RekeningBank: izek saldo: 40000000\n"
          ]
        }
      ]
    },
    {
      "cell_type": "code",
      "source": [
        "#demo program utama\n",
        "RekeningBankdyz = RekeningBank(\"yz\",7000000)\n",
        "\n",
        "#mengakses atau menampilkan informasi awal Rekeningbank\n",
        "print(\"informasi rekening bank sekarang:\")\n",
        "print(\"nama pemilik:\",RekeningBankdyz.get_nama_pemilik())\n",
        "print(\"saldo awal :\", RekeningBankdyz.get_saldo())\n",
        "\n",
        "#melakukan setor\n",
        "RekeningBankdyz.setor(130000) #jumlah lebih dari 0\n",
        "RekeningBankdyz.setor(0) #jumlah kurang dengan 0\n",
        "\n",
        "#melakukan tarikan saldo\n",
        "RekeningBankdyz.tarik(444000) #jumlah saldo tidak melebihi saldo pertama\n",
        "RekeningBankdyz.tarik(50000000) #jumlah saldo melebihi saldo pertama\n",
        "\n",
        "#mengakses atau menampilkan informasi akhir RekeningBankSaya\n",
        "print(\"informasi rekeningbanksaya :\")\n",
        "print(\"nama pemilik :\", RekeningBankdyz.get_nama_pemilik())\n",
        "print(\"saldo akhir :\", RekeningBankdyz.get_saldo())"
      ],
      "metadata": {
        "colab": {
          "base_uri": "https://localhost:8080/"
        },
        "id": "fDzp5TrVsyu2",
        "outputId": "a66cc288-8872-4301-e886-0cfac6287fc0"
      },
      "execution_count": 13,
      "outputs": [
        {
          "output_type": "stream",
          "name": "stdout",
          "text": [
            "informasi rekening bank sekarang:\n",
            "nama pemilik: yz\n",
            "saldo awal : 7000000\n",
            "behasil.total saldo sekarang : 7130000\n",
            "jumlah setor harus lebih dari 0\n",
            "tarik 444000\n",
            "berhasil. total saldo sekarang : 6686000\n",
            "jumlah saldo tidak mencukupi\n",
            "informasi rekeningbanksaya :\n",
            "nama pemilik : yz\n",
            "saldo akhir : 6686000\n"
          ]
        }
      ]
    }
  ]
}